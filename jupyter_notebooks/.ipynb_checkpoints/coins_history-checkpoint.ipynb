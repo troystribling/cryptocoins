{
 "cells": [
  {
   "cell_type": "code",
   "execution_count": 1,
   "metadata": {
    "collapsed": true
   },
   "outputs": [],
   "source": [
    "%reload_ext autoreload\n",
    "%autoreload 2\n",
    "\n",
    "%aimport sys\n",
    "%aimport os\n",
    "\n",
    "wd = os.getcwd()\n",
    "libpath = os.path.join(wd, '..')\n",
    "sys.path.append(libpath)\n",
    "\n",
    "from cryptocoins.models.coins import Coins\n",
    "from cryptocoins.models.currency_pairs_history import CurrencyPairsHistory\n",
    "from cryptocoins.models.exchanges_history import ExchangesHistory\n",
    "from cryptocoins.models.collections import Collections"
   ]
  },
  {
   "cell_type": "code",
   "execution_count": 2,
   "metadata": {},
   "outputs": [
    {
     "data": {
      "text/plain": [
       "1923"
      ]
     },
     "execution_count": 2,
     "metadata": {},
     "output_type": "execute_result"
    }
   ],
   "source": [
    "Coins.select().count()"
   ]
  }
 ],
 "metadata": {
  "kernelspec": {
   "display_name": "Python 3",
   "language": "python",
   "name": "python3"
  },
  "language_info": {
   "codemirror_mode": {
    "name": "ipython",
    "version": 3
   },
   "file_extension": ".py",
   "mimetype": "text/x-python",
   "name": "python",
   "nbconvert_exporter": "python",
   "pygments_lexer": "ipython3",
   "version": "3.6.1"
  }
 },
 "nbformat": 4,
 "nbformat_minor": 2
}
