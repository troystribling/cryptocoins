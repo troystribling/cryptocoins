{
 "cells": [
  {
   "cell_type": "code",
   "execution_count": 33,
   "metadata": {
    "collapsed": true
   },
   "outputs": [],
   "source": [
    "%reload_ext autoreload\n",
    "%autoreload 2\n",
    "\n",
    "%aimport sys\n",
    "%aimport os\n",
    "%aimport seaborn\n",
    "\n",
    "wd = os.getcwd()\n",
    "libpath = os.path.join(wd, '..')\n",
    "sys.path.append(libpath)\n",
    "\n",
    "from cryptocoins.models.coins import Coins\n",
    "from cryptocoins.models.currency_pairs_history import CurrencyPairsHistory"
   ]
  },
  {
   "cell_type": "code",
   "execution_count": 32,
   "metadata": {},
   "outputs": [
    {
     "name": "stdout",
     "output_type": "stream",
     "text": [
      "from_symbol\n",
      "BTC      50\n",
      "ETH      32\n",
      "LTC      25\n",
      "DASH     20\n",
      "ETC      15\n",
      "ZEC      14\n",
      "XRP      10\n",
      "XMR      10\n",
      "XVG       9\n",
      "PPC       8\n",
      "XEM       8\n",
      "DOGE      8\n",
      "TEK       7\n",
      "SXC       7\n",
      "START     7\n",
      "RDD       7\n",
      "NAV       7\n",
      "BTS       7\n",
      "NMC       7\n",
      "CANN      7\n",
      "TTC       7\n",
      "DGB       7\n",
      "BITB      7\n",
      "ZET       7\n",
      "XPD       7\n",
      "VTC       6\n",
      "GLC       6\n",
      "NVC       6\n",
      "NOTE      6\n",
      "MONA      6\n",
      "         ..\n",
      "GML       2\n",
      "HBN       2\n",
      "XPY       2\n",
      "YAC       1\n",
      "UNB       1\n",
      "XC        1\n",
      "TOR       1\n",
      "XVC       1\n",
      "SLING     1\n",
      "BLOCK     1\n",
      "SDC       1\n",
      "ENRG      1\n",
      "BURST     1\n",
      "RIC       1\n",
      "KEY       1\n",
      "FAIR      1\n",
      "GRC       1\n",
      "HUC       1\n",
      "IFC       1\n",
      "IOC       1\n",
      "KDC       1\n",
      "KORE      1\n",
      "BTE       1\n",
      "CASH      1\n",
      "LTB       1\n",
      "NBT       1\n",
      "BYC       1\n",
      "EXCL      1\n",
      "BTM       1\n",
      "007       1\n",
      "Name: to_symbol_count, Length: 178, dtype: int64\n"
     ]
    }
   ],
   "source": [
    "timestamps = CurrencyPairsHistory.timestamps()\n",
    "pairs_data_frame = CurrencyPairsHistory.pairs_for_timestamp_epoc_data_frame(timestamps[0])\n",
    "pairs_to_symbol_count = pairs_data_frame['to_symbol'].groupby(pairs_data_frame['from_symbol']).count().sort_values(ascending=False)\n",
    "pairs_to_symbol_count.name = 'to_symbol_count'\n"
   ]
  }
 ],
 "metadata": {
  "kernelspec": {
   "display_name": "Python 3",
   "language": "python",
   "name": "python3"
  },
  "language_info": {
   "codemirror_mode": {
    "name": "ipython",
    "version": 3
   },
   "file_extension": ".py",
   "mimetype": "text/x-python",
   "name": "python",
   "nbconvert_exporter": "python",
   "pygments_lexer": "ipython3",
   "version": "3.6.1"
  }
 },
 "nbformat": 4,
 "nbformat_minor": 2
}
