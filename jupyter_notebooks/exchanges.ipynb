{
 "cells": [
  {
   "cell_type": "code",
   "execution_count": null,
   "metadata": {
    "collapsed": true
   },
   "outputs": [],
   "source": [
    "%matplotlib inline\n",
    "%reload_ext autoreload\n",
    "%autoreload 2\n",
    "\n",
    "%aimport sys\n",
    "%aimport os\n",
    "%aimport seaborn\n",
    "%aimport matplotlib\n",
    "\n",
    "wd = os.getcwd()\n",
    "libpath = os.path.join(wd, '..')\n",
    "sys.path.append(libpath)\n",
    "\n",
    "from cryptocoins.models.coins_price_history import CoinsPriceHistory\n",
    "\n",
    "seaborn.set()"
   ]
  },
  {
   "cell_type": "code",
   "execution_count": null,
   "metadata": {},
   "outputs": [],
   "source": [
    "timestamps = CoinsPriceHistory.timestamps('BTC', 'USD')\n",
    "exchanges = CoinsPriceHistory.exchange_distribution_data_frame(timestamps[30], 'BTC', 'USD')\n",
    "exchanges"
   ]
  }
 ],
 "metadata": {
  "kernelspec": {
   "display_name": "Python 3",
   "language": "python",
   "name": "python3"
  },
  "language_info": {
   "codemirror_mode": {
    "name": "ipython",
    "version": 3
   },
   "file_extension": ".py",
   "mimetype": "text/x-python",
   "name": "python",
   "nbconvert_exporter": "python",
   "pygments_lexer": "ipython3",
   "version": "3.6.1"
  }
 },
 "nbformat": 4,
 "nbformat_minor": 2
}
